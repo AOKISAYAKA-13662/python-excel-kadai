{
  "nbformat": 4,
  "nbformat_minor": 0,
  "metadata": {
    "colab": {
      "provenance": []
    },
    "kernelspec": {
      "name": "python3",
      "display_name": "Python 3"
    },
    "language_info": {
      "name": "python"
    }
  },
  "cells": [
    {
      "cell_type": "code",
      "execution_count": 1,
      "metadata": {
        "colab": {
          "base_uri": "https://localhost:8080/"
        },
        "id": "PpMHdFfr86by",
        "outputId": "ef298d79-25c5-4d40-b4c2-49450a99e62f"
      },
      "outputs": [
        {
          "output_type": "stream",
          "name": "stdout",
          "text": [
            "Saved: 請求書_20230520（20250829）.xlsx\n"
          ]
        }
      ],
      "source": [
        "from openpyxl import Workbook\n",
        "from openpyxl.styles import Font, Alignment, Border, Side, PatternFill\n",
        "from datetime import datetime\n",
        "\n",
        "# ---- ファイル名（例：請求書_20230520（YYYYMMDD）.xlsx）----\n",
        "today = datetime.now()\n",
        "filename = f\"請求書_20230520（{today:%Y%m%d}）.xlsx\"\n",
        "\n",
        "# ---- ブック & シート ----\n",
        "wb = Workbook()\n",
        "ws = wb.active\n",
        "ws.title = \"請求書\"\n",
        "\n",
        "# ---- 列幅など ----\n",
        "for col, w in {\"A\":3, \"B\":22, \"C\":12, \"D\":10, \"E\":12, \"F\":8, \"G\":16}.items():\n",
        "    ws.column_dimensions[col].width = w\n",
        "ws.row_dimensions[2].height = 28\n",
        "\n",
        "# ---- スタイル ----\n",
        "title_font = Font(name=\"Meiryo\", size=18, bold=True)\n",
        "hdr_font   = Font(name=\"Meiryo\", size=12, bold=True)\n",
        "bold_font  = Font(name=\"Meiryo\", size=11, bold=True)\n",
        "normal     = Font(name=\"Meiryo\", size=11)\n",
        "center = Alignment(horizontal=\"center\", vertical=\"center\")\n",
        "left   = Alignment(horizontal=\"left\",   vertical=\"center\")\n",
        "right  = Alignment(horizontal=\"right\",  vertical=\"center\")\n",
        "thin   = Side(style=\"thin\")\n",
        "box    = Border(left=thin, right=thin, top=thin, bottom=thin)\n",
        "th_fill= PatternFill(\"solid\", fgColor=\"DDDDDD\")\n",
        "\n",
        "# ---- 見出し ----\n",
        "ws.merge_cells(\"B2:D2\")\n",
        "ws[\"B2\"] = \"請求書\"\n",
        "ws[\"B2\"].font, ws[\"B2\"].alignment = title_font, left\n",
        "\n",
        "# 会社情報\n",
        "ws[\"B4\"] = \"株式会社ABC\"\n",
        "ws[\"B5\"] = \"〒101-0022 東京都千代田区神田練堀町300\"\n",
        "ws[\"B6\"] = \"TEL:03-1234-5678  FAX:03-1234-5678\"\n",
        "ws[\"B7\"] = \"担当者名:鈴木一郎 様\"\n",
        "ws[\"B4\"].font = bold_font\n",
        "for r in range(4,8): ws[f\"B{r}\"].alignment = left\n",
        "\n",
        "# No. / 日付\n",
        "ws[\"F4\"], ws[\"G4\"] = \"No.\", \"0001\"\n",
        "ws[\"F5\"], ws[\"G5\"] = \"日付\", today.strftime(\"%Y/%m/%d\")\n",
        "ws[\"F4\"].font = ws[\"F5\"].font = bold_font\n",
        "ws[\"F4\"].alignment = ws[\"F5\"].alignment = right\n",
        "\n",
        "# ---- 明細ヘッダー ----\n",
        "ws[\"B10\"], ws[\"D10\"], ws[\"E10\"], ws[\"G10\"] = \"商品名\", \"数量\", \"単価\", \"金額\"\n",
        "for c in [\"B10\",\"D10\",\"E10\",\"G10\"]:\n",
        "    ws[c].font, ws[c].alignment, ws[c].fill, ws[c].border = hdr_font, center, th_fill, box\n",
        "\n",
        "# ---- 明細行 ----\n",
        "items = [(\"商品A\",2,10000), (\"商品B\",1,15000)]\n",
        "row0 = 11\n",
        "for i,(name,qty,unit) in enumerate(items):\n",
        "    r = row0 + i\n",
        "    ws[f\"B{r}\"], ws[f\"D{r}\"], ws[f\"E{r}\"] = name, qty, unit\n",
        "    ws[f\"G{r}\"] = f\"=D{r}*E{r}\"\n",
        "    for col in [\"B\",\"D\",\"E\",\"G\"]:\n",
        "        ws[f\"{col}{r}\"].border = box\n",
        "        ws[f\"{col}{r}\"].alignment = center if col in [\"D\",\"E\",\"G\"] else left\n",
        "\n",
        "# 小計行のための合計（行13）\n",
        "r = row0 + len(items)\n",
        "ws[f\"G{r}\"] = f\"=SUM(G{row0}:G{r-1})\"\n",
        "for col in [\"B\",\"D\",\"E\",\"G\"]:\n",
        "    ws[f\"{col}{r}\"].border = box\n",
        "    ws[f\"{col}{r}\"].alignment = center\n",
        "\n",
        "# ---- 小計・税・合計 ----\n",
        "ws[\"B15\"], ws[\"B16\"], ws[\"B17\"] = \"小計\", \"消費税\", \"合計\"\n",
        "for c in [\"B15\",\"B16\",\"B17\"]:\n",
        "    ws[c].font, ws[c].alignment = bold_font, left\n",
        "\n",
        "ws[\"G15\"] = f\"=SUM(G{row0}:G{r})\"  # 小計\n",
        "ws[\"G16\"] = \"=ROUND(G15*0.10,0)\"   # 税(10%)\n",
        "ws[\"G17\"] = \"=G15+G16\"            # 合計\n",
        "\n",
        "for rr in range(15,18):\n",
        "    for cc in [\"B\",\"C\",\"D\",\"E\",\"F\",\"G\"]:\n",
        "        ws[f\"{cc}{rr}\"].border = box\n",
        "        ws[f\"{cc}{rr}\"].alignment = right if cc==\"G\" else left\n",
        "\n",
        "# ---- 保存 ----\n",
        "wb.save(filename)\n",
        "print(f\"Saved: {filename}\")\n"
      ]
    },
    {
      "cell_type": "code",
      "source": [],
      "metadata": {
        "id": "WqnqiqLz87ll"
      },
      "execution_count": null,
      "outputs": []
    },
    {
      "cell_type": "code",
      "source": [],
      "metadata": {
        "id": "q-_pt7PP87id"
      },
      "execution_count": null,
      "outputs": []
    },
    {
      "cell_type": "code",
      "source": [],
      "metadata": {
        "id": "q0-9stNK87fH"
      },
      "execution_count": null,
      "outputs": []
    },
    {
      "cell_type": "code",
      "source": [],
      "metadata": {
        "id": "dpWcaCAZ87cV"
      },
      "execution_count": null,
      "outputs": []
    },
    {
      "cell_type": "code",
      "source": [],
      "metadata": {
        "id": "vxYiZkwc87Y3"
      },
      "execution_count": null,
      "outputs": []
    }
  ]
}